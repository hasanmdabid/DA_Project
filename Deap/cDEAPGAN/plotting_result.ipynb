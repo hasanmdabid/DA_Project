{
 "cells": [
  {
   "cell_type": "code",
   "execution_count": 6,
   "metadata": {},
   "outputs": [],
   "source": [
    "import pandas as pd\n",
    "import matplotlib.pyplot as plt\n",
    "\n",
    "# Read the CSV file into a DataFrame with a semicolon separator\n",
    "csv_file_path = '/home/abidhasan/Documents/DA_Project/Deap/results/results.csv'  # Replace with the actual path to your CSV file\n",
    "df_deap = pd.read_csv(csv_file_path, sep=';')\n"
   ]
  },
  {
   "cell_type": "code",
   "execution_count": 11,
   "metadata": {},
   "outputs": [
    {
     "data": {
      "text/plain": [
       "Index(['Finished on', ' Method', ' Aug_factor', ' Modelname', ' Epochs',\n",
       "       ' Batch_Size', ' train_accuracy', ' test_accuracy',\n",
       "       ' Average_fscore_macro', 'Unnamed: 9'],\n",
       "      dtype='object')"
      ]
     },
     "execution_count": 11,
     "metadata": {},
     "output_type": "execute_result"
    }
   ],
   "source": [
    "baseline_deap_accuracy = 0.86\n",
    "df_deap.columns"
   ]
  },
  {
   "cell_type": "code",
   "execution_count": 12,
   "metadata": {},
   "outputs": [
    {
     "data": {
      "text/plain": [
       " Method\n",
       "Convolve           0.857937\n",
       "Cropping           0.869841\n",
       "GuidedTimeWarp     0.869395\n",
       "Guidedtimewarp     0.858284\n",
       "Jittering          0.861706\n",
       "No_AUGMENTATION    0.860218\n",
       "RandomTimeWarp     0.865724\n",
       "Randomtimewarp     0.869742\n",
       "TimeWarp           0.866865\n",
       "rotation           0.888938\n",
       "Name:  test_accuracy, dtype: float64"
      ]
     },
     "execution_count": 12,
     "metadata": {},
     "output_type": "execute_result"
    }
   ],
   "source": [
    "df_deap.groupby([' Method'])[' test_accuracy'].max()"
   ]
  }
 ],
 "metadata": {
  "kernelspec": {
   "display_name": "tf",
   "language": "python",
   "name": "python3"
  },
  "language_info": {
   "codemirror_mode": {
    "name": "ipython",
    "version": 3
   },
   "file_extension": ".py",
   "mimetype": "text/x-python",
   "name": "python",
   "nbconvert_exporter": "python",
   "pygments_lexer": "ipython3",
   "version": "3.9.17"
  }
 },
 "nbformat": 4,
 "nbformat_minor": 2
}
