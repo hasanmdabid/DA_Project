{
 "cells": [
  {
   "cell_type": "code",
   "execution_count": null,
   "metadata": {},
   "outputs": [],
   "source": [
    "import pandas as pd\n",
    "import matplotlib.pyplot as plt\n",
    "\n",
    "# Read the CSV file into a DataFrame with a semicolon separator\n",
    "csv_file_path = '/home/abidhasan/Documents/DA_Project/Deap/results/results.csv'  # Replace with the actual path to your CSV file\n",
    "df = pd.read_csv(csv_file_path, sep=';')\n"
   ]
  },
  {
   "cell_type": "code",
   "execution_count": null,
   "metadata": {},
   "outputs": [],
   "source": [
    "# Get unique method names\n",
    "methods = df['Method Name'].unique()\n",
    "\n",
    "# Plot the accuracy for each method\n",
    "plt.figure(figsize=(10, 6))\n",
    "\n",
    "for method in methods:\n",
    "    method_data = df[df['Method Name'] == method]\n",
    "    plt.plot(method_data['Repeat'], method_data['Accuracy'], label=method)\n",
    "\n",
    "plt.xlabel('Repetition')\n",
    "plt.ylabel('Accuracy')\n",
    "plt.title('Accuracy of Each Method Across Repetitions')\n",
    "plt.legend()\n",
    "plt.show()"
   ]
  }
 ],
 "metadata": {
  "kernelspec": {
   "display_name": "tf",
   "language": "python",
   "name": "python3"
  },
  "language_info": {
   "name": "python",
   "version": "3.9.17"
  }
 },
 "nbformat": 4,
 "nbformat_minor": 2
}
